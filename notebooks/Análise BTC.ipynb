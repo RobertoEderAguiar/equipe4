{
 "cells": [
  {
   "cell_type": "code",
   "execution_count": 1,
   "id": "2fe4e8fc",
   "metadata": {},
   "outputs": [],
   "source": [
    "# Imports\n",
    "import math\n",
    "import numpy as np\n",
    "import pandas as pd\n",
    "import matplotlib.pyplot as plt\n",
    "import seaborn as sns\n",
    "pd.set_option('display.max_columns', None)\n",
    "pd.set_option('display.max_rows', None)\n",
    "import warnings\n",
    "warnings.filterwarnings(\"ignore\")\n",
    "import glob\n"
   ]
  },
  {
   "cell_type": "code",
   "execution_count": 2,
   "id": "b9312f83",
   "metadata": {},
   "outputs": [
    {
     "name": "stdout",
     "output_type": "stream",
     "text": [
      "Versão da Linguagem Python Usada Neste Jupyter Notebook: 3.8.8\n"
     ]
    }
   ],
   "source": [
    "# Versão da Linguagem Python\n",
    "from platform import python_version\n",
    "print('Versão da Linguagem Python Usada Neste Jupyter Notebook:', python_version())"
   ]
  },
  {
   "cell_type": "code",
   "execution_count": 3,
   "id": "8100d46a",
   "metadata": {},
   "outputs": [
    {
     "name": "stdout",
     "output_type": "stream",
     "text": [
      "Author: EQUIPE 4\n",
      "\n",
      "numpy     : 1.18.5\n",
      "matplotlib: 3.4.1\n",
      "seaborn   : 0.11.1\n",
      "pandas    : 1.2.3\n",
      "\n"
     ]
    }
   ],
   "source": [
    "# Versões dos pacotes usados neste jupyter notebook\n",
    "%reload_ext watermark\n",
    "%watermark -a \"EQUIPE 4\" --iversions"
   ]
  },
  {
   "cell_type": "code",
   "execution_count": 4,
   "id": "e8391329",
   "metadata": {},
   "outputs": [],
   "source": [
    "#carregando dados\n",
    "\n",
    "path = r'..\\data\\raw' # use your path\n",
    "all_files = glob.glob(path + \"/*.csv\")\n",
    "\n",
    "li = []\n",
    "\n",
    "for filename in all_files:\n",
    "    df = pd.read_csv(filename, index_col=None, header=0)\n",
    "    li.append(df)\n",
    "\n",
    "frame = pd.concat(li, axis=0, ignore_index=True)"
   ]
  },
  {
   "cell_type": "markdown",
   "id": "c7fa9490",
   "metadata": {},
   "source": [
    "## Entendendo nosso conjunto de dados"
   ]
  },
  {
   "cell_type": "code",
   "execution_count": 5,
   "id": "f26711ee",
   "metadata": {},
   "outputs": [
    {
     "name": "stdout",
     "output_type": "stream",
     "text": [
      "<class 'pandas.core.frame.DataFrame'>\n",
      "RangeIndex: 37082 entries, 0 to 37081\n",
      "Data columns (total 10 columns):\n",
      " #   Column     Non-Null Count  Dtype  \n",
      "---  ------     --------------  -----  \n",
      " 0   SNo        37082 non-null  int64  \n",
      " 1   Name       37082 non-null  object \n",
      " 2   Symbol     37082 non-null  object \n",
      " 3   Date       37082 non-null  object \n",
      " 4   High       37082 non-null  float64\n",
      " 5   Low        37082 non-null  float64\n",
      " 6   Open       37082 non-null  float64\n",
      " 7   Close      37082 non-null  float64\n",
      " 8   Volume     37082 non-null  float64\n",
      " 9   Marketcap  37082 non-null  float64\n",
      "dtypes: float64(6), int64(1), object(3)\n",
      "memory usage: 2.8+ MB\n"
     ]
    }
   ],
   "source": [
    "#informação dos dodos\n",
    "frame.info()"
   ]
  },
  {
   "cell_type": "code",
   "execution_count": 6,
   "id": "2e85dae9",
   "metadata": {},
   "outputs": [
    {
     "data": {
      "text/plain": [
       "SNo            int64\n",
       "Name          object\n",
       "Symbol        object\n",
       "Date          object\n",
       "High         float64\n",
       "Low          float64\n",
       "Open         float64\n",
       "Close        float64\n",
       "Volume       float64\n",
       "Marketcap    float64\n",
       "dtype: object"
      ]
     },
     "execution_count": 6,
     "metadata": {},
     "output_type": "execute_result"
    }
   ],
   "source": [
    "df.dtypes"
   ]
  },
  {
   "cell_type": "code",
   "execution_count": 7,
   "id": "01903554",
   "metadata": {},
   "outputs": [
    {
     "data": {
      "text/html": [
       "<div>\n",
       "<style scoped>\n",
       "    .dataframe tbody tr th:only-of-type {\n",
       "        vertical-align: middle;\n",
       "    }\n",
       "\n",
       "    .dataframe tbody tr th {\n",
       "        vertical-align: top;\n",
       "    }\n",
       "\n",
       "    .dataframe thead th {\n",
       "        text-align: right;\n",
       "    }\n",
       "</style>\n",
       "<table border=\"1\" class=\"dataframe\">\n",
       "  <thead>\n",
       "    <tr style=\"text-align: right;\">\n",
       "      <th></th>\n",
       "      <th>SNo</th>\n",
       "      <th>Name</th>\n",
       "      <th>Symbol</th>\n",
       "      <th>Date</th>\n",
       "      <th>High</th>\n",
       "      <th>Low</th>\n",
       "      <th>Open</th>\n",
       "      <th>Close</th>\n",
       "      <th>Volume</th>\n",
       "      <th>Marketcap</th>\n",
       "    </tr>\n",
       "  </thead>\n",
       "  <tbody>\n",
       "    <tr>\n",
       "      <th>0</th>\n",
       "      <td>1</td>\n",
       "      <td>Aave</td>\n",
       "      <td>AAVE</td>\n",
       "      <td>2020-10-05 23:59:59</td>\n",
       "      <td>55.112358</td>\n",
       "      <td>49.787900</td>\n",
       "      <td>52.675035</td>\n",
       "      <td>53.219243</td>\n",
       "      <td>0.000000e+00</td>\n",
       "      <td>8.912813e+07</td>\n",
       "    </tr>\n",
       "    <tr>\n",
       "      <th>1</th>\n",
       "      <td>2</td>\n",
       "      <td>Aave</td>\n",
       "      <td>AAVE</td>\n",
       "      <td>2020-10-06 23:59:59</td>\n",
       "      <td>53.402270</td>\n",
       "      <td>40.734578</td>\n",
       "      <td>53.291969</td>\n",
       "      <td>42.401599</td>\n",
       "      <td>5.830915e+05</td>\n",
       "      <td>7.101144e+07</td>\n",
       "    </tr>\n",
       "    <tr>\n",
       "      <th>2</th>\n",
       "      <td>3</td>\n",
       "      <td>Aave</td>\n",
       "      <td>AAVE</td>\n",
       "      <td>2020-10-07 23:59:59</td>\n",
       "      <td>42.408314</td>\n",
       "      <td>35.970690</td>\n",
       "      <td>42.399947</td>\n",
       "      <td>40.083976</td>\n",
       "      <td>6.828342e+05</td>\n",
       "      <td>6.713004e+07</td>\n",
       "    </tr>\n",
       "    <tr>\n",
       "      <th>3</th>\n",
       "      <td>4</td>\n",
       "      <td>Aave</td>\n",
       "      <td>AAVE</td>\n",
       "      <td>2020-10-08 23:59:59</td>\n",
       "      <td>44.902511</td>\n",
       "      <td>36.696057</td>\n",
       "      <td>39.885262</td>\n",
       "      <td>43.764463</td>\n",
       "      <td>1.658817e+06</td>\n",
       "      <td>2.202651e+08</td>\n",
       "    </tr>\n",
       "    <tr>\n",
       "      <th>4</th>\n",
       "      <td>5</td>\n",
       "      <td>Aave</td>\n",
       "      <td>AAVE</td>\n",
       "      <td>2020-10-09 23:59:59</td>\n",
       "      <td>47.569533</td>\n",
       "      <td>43.291776</td>\n",
       "      <td>43.764463</td>\n",
       "      <td>46.817744</td>\n",
       "      <td>8.155377e+05</td>\n",
       "      <td>2.356322e+08</td>\n",
       "    </tr>\n",
       "  </tbody>\n",
       "</table>\n",
       "</div>"
      ],
      "text/plain": [
       "   SNo  Name Symbol                 Date       High        Low       Open  \\\n",
       "0    1  Aave   AAVE  2020-10-05 23:59:59  55.112358  49.787900  52.675035   \n",
       "1    2  Aave   AAVE  2020-10-06 23:59:59  53.402270  40.734578  53.291969   \n",
       "2    3  Aave   AAVE  2020-10-07 23:59:59  42.408314  35.970690  42.399947   \n",
       "3    4  Aave   AAVE  2020-10-08 23:59:59  44.902511  36.696057  39.885262   \n",
       "4    5  Aave   AAVE  2020-10-09 23:59:59  47.569533  43.291776  43.764463   \n",
       "\n",
       "       Close        Volume     Marketcap  \n",
       "0  53.219243  0.000000e+00  8.912813e+07  \n",
       "1  42.401599  5.830915e+05  7.101144e+07  \n",
       "2  40.083976  6.828342e+05  6.713004e+07  \n",
       "3  43.764463  1.658817e+06  2.202651e+08  \n",
       "4  46.817744  8.155377e+05  2.356322e+08  "
      ]
     },
     "execution_count": 7,
     "metadata": {},
     "output_type": "execute_result"
    }
   ],
   "source": [
    "# Visualiza amostra dos dados\n",
    "frame.head()"
   ]
  },
  {
   "cell_type": "code",
   "execution_count": 8,
   "id": "b6c81fec",
   "metadata": {},
   "outputs": [
    {
     "data": {
      "text/html": [
       "<div>\n",
       "<style scoped>\n",
       "    .dataframe tbody tr th:only-of-type {\n",
       "        vertical-align: middle;\n",
       "    }\n",
       "\n",
       "    .dataframe tbody tr th {\n",
       "        vertical-align: top;\n",
       "    }\n",
       "\n",
       "    .dataframe thead th {\n",
       "        text-align: right;\n",
       "    }\n",
       "</style>\n",
       "<table border=\"1\" class=\"dataframe\">\n",
       "  <thead>\n",
       "    <tr style=\"text-align: right;\">\n",
       "      <th></th>\n",
       "      <th>SNo</th>\n",
       "      <th>Name</th>\n",
       "      <th>Symbol</th>\n",
       "      <th>Date</th>\n",
       "      <th>High</th>\n",
       "      <th>Low</th>\n",
       "      <th>Open</th>\n",
       "      <th>Close</th>\n",
       "      <th>Volume</th>\n",
       "      <th>Marketcap</th>\n",
       "    </tr>\n",
       "  </thead>\n",
       "  <tbody>\n",
       "    <tr>\n",
       "      <th>37077</th>\n",
       "      <td>2889</td>\n",
       "      <td>XRP</td>\n",
       "      <td>XRP</td>\n",
       "      <td>2021-07-02 23:59:59</td>\n",
       "      <td>0.667287</td>\n",
       "      <td>0.634726</td>\n",
       "      <td>0.659890</td>\n",
       "      <td>0.656763</td>\n",
       "      <td>2.061607e+09</td>\n",
       "      <td>3.030759e+10</td>\n",
       "    </tr>\n",
       "    <tr>\n",
       "      <th>37078</th>\n",
       "      <td>2890</td>\n",
       "      <td>XRP</td>\n",
       "      <td>XRP</td>\n",
       "      <td>2021-07-03 23:59:59</td>\n",
       "      <td>0.683677</td>\n",
       "      <td>0.644653</td>\n",
       "      <td>0.655639</td>\n",
       "      <td>0.672888</td>\n",
       "      <td>1.872820e+09</td>\n",
       "      <td>3.105172e+10</td>\n",
       "    </tr>\n",
       "    <tr>\n",
       "      <th>37079</th>\n",
       "      <td>2891</td>\n",
       "      <td>XRP</td>\n",
       "      <td>XRP</td>\n",
       "      <td>2021-07-04 23:59:59</td>\n",
       "      <td>0.707783</td>\n",
       "      <td>0.665802</td>\n",
       "      <td>0.673218</td>\n",
       "      <td>0.694945</td>\n",
       "      <td>1.885242e+09</td>\n",
       "      <td>3.206960e+10</td>\n",
       "    </tr>\n",
       "    <tr>\n",
       "      <th>37080</th>\n",
       "      <td>2892</td>\n",
       "      <td>XRP</td>\n",
       "      <td>XRP</td>\n",
       "      <td>2021-07-05 23:59:59</td>\n",
       "      <td>0.695653</td>\n",
       "      <td>0.648492</td>\n",
       "      <td>0.695653</td>\n",
       "      <td>0.654300</td>\n",
       "      <td>2.076373e+09</td>\n",
       "      <td>3.019395e+10</td>\n",
       "    </tr>\n",
       "    <tr>\n",
       "      <th>37081</th>\n",
       "      <td>2893</td>\n",
       "      <td>XRP</td>\n",
       "      <td>XRP</td>\n",
       "      <td>2021-07-06 23:59:59</td>\n",
       "      <td>0.679923</td>\n",
       "      <td>0.652676</td>\n",
       "      <td>0.653055</td>\n",
       "      <td>0.665402</td>\n",
       "      <td>1.938959e+09</td>\n",
       "      <td>3.072284e+10</td>\n",
       "    </tr>\n",
       "  </tbody>\n",
       "</table>\n",
       "</div>"
      ],
      "text/plain": [
       "        SNo Name Symbol                 Date      High       Low      Open  \\\n",
       "37077  2889  XRP    XRP  2021-07-02 23:59:59  0.667287  0.634726  0.659890   \n",
       "37078  2890  XRP    XRP  2021-07-03 23:59:59  0.683677  0.644653  0.655639   \n",
       "37079  2891  XRP    XRP  2021-07-04 23:59:59  0.707783  0.665802  0.673218   \n",
       "37080  2892  XRP    XRP  2021-07-05 23:59:59  0.695653  0.648492  0.695653   \n",
       "37081  2893  XRP    XRP  2021-07-06 23:59:59  0.679923  0.652676  0.653055   \n",
       "\n",
       "          Close        Volume     Marketcap  \n",
       "37077  0.656763  2.061607e+09  3.030759e+10  \n",
       "37078  0.672888  1.872820e+09  3.105172e+10  \n",
       "37079  0.694945  1.885242e+09  3.206960e+10  \n",
       "37080  0.654300  2.076373e+09  3.019395e+10  \n",
       "37081  0.665402  1.938959e+09  3.072284e+10  "
      ]
     },
     "execution_count": 8,
     "metadata": {},
     "output_type": "execute_result"
    }
   ],
   "source": [
    "# Visualiza amostra dos dados\n",
    "frame.tail()"
   ]
  },
  {
   "cell_type": "code",
   "execution_count": 9,
   "id": "38e9116b",
   "metadata": {},
   "outputs": [
    {
     "data": {
      "text/plain": [
       "Index(['SNo', 'Name', 'Symbol', 'Date', 'High', 'Low', 'Open', 'Close',\n",
       "       'Volume', 'Marketcap'],\n",
       "      dtype='object')"
      ]
     },
     "execution_count": 9,
     "metadata": {},
     "output_type": "execute_result"
    }
   ],
   "source": [
    "# Colunas\n",
    "frame.columns"
   ]
  },
  {
   "cell_type": "code",
   "execution_count": 10,
   "id": "444a05de",
   "metadata": {},
   "outputs": [
    {
     "name": "stdout",
     "output_type": "stream",
     "text": [
      "Linhas:  37082\n",
      "Colunas:  10\n",
      "\n",
      "Variáveis: \n",
      " ['SNo', 'Name', 'Symbol', 'Date', 'High', 'Low', 'Open', 'Close', 'Volume', 'Marketcap']\n",
      "\n",
      "Valores Ausentes: \n",
      " SNo          0\n",
      "Name         0\n",
      "Symbol       0\n",
      "Date         0\n",
      "High         0\n",
      "Low          0\n",
      "Open         0\n",
      "Close        0\n",
      "Volume       0\n",
      "Marketcap    0\n",
      "dtype: int64\n",
      "\n",
      "Valores Únicos: \n",
      " SNo           2991\n",
      "Name            23\n",
      "Symbol          23\n",
      "Date          2991\n",
      "High         36283\n",
      "Low          36333\n",
      "Open         36290\n",
      "Close        36284\n",
      "Volume       36393\n",
      "Marketcap    36121\n",
      "dtype: int64\n"
     ]
    }
   ],
   "source": [
    "# Resumo\n",
    "print(\"Linhas: \", frame.shape[0])\n",
    "print(\"Colunas: \", frame.shape[1])\n",
    "print(\"\\nVariáveis: \\n\", frame.columns.tolist())\n",
    "print(\"\\nValores Ausentes: \\n\" , frame.isnull().sum())\n",
    "print(\"\\nValores Únicos: \\n\", frame.nunique())"
   ]
  },
  {
   "cell_type": "code",
   "execution_count": 11,
   "id": "6df14222",
   "metadata": {},
   "outputs": [
    {
     "data": {
      "text/plain": [
       "<AxesSubplot:>"
      ]
     },
     "execution_count": 11,
     "metadata": {},
     "output_type": "execute_result"
    },
    {
     "data": {
      "image/png": "[encoded data removed]",
      "text/plain": [
       "<Figure size 432x288 with 1 Axes>"
      ]
     },
     "metadata": {
      "needs_background": "light"
     },
     "output_type": "display_data"
    }
   ],
   "source": [
    "frame[\"Volume\"].plot()"
   ]
  },
  {
   "cell_type": "code",
   "execution_count": null,
   "id": "e2aa5d4e",
   "metadata": {},
   "outputs": [],
   "source": []
  }
 ],
 "metadata": {
  "kernelspec": {
   "display_name": "Python 3 (ipykernel)",
   "language": "python",
   "name": "python3"
  },
  "language_info": {
   "codemirror_mode": {
    "name": "ipython",
    "version": 3
   },
   "file_extension": ".py",
   "mimetype": "text/x-python",
   "name": "python",
   "nbconvert_exporter": "python",
   "pygments_lexer": "ipython3",
   "version": "3.8.8"
  }
 },
 "nbformat": 4,
 "nbformat_minor": 5
}
